{
 "cells": [
  {
   "cell_type": "markdown",
   "id": "70953e40",
   "metadata": {},
   "source": [
    "## 讀取資料"
   ]
  },
  {
   "cell_type": "code",
   "execution_count": 1,
   "id": "40778334",
   "metadata": {},
   "outputs": [
    {
     "name": "stderr",
     "output_type": "stream",
     "text": [
      "/Users/david/.pyenv/versions/3.8.10/lib/python3.8/site-packages/pandas/compat/__init__.py:124: UserWarning: Could not import the lzma module. Your installed Python is incomplete. Attempting to use lzma compression will result in a RuntimeError.\n",
      "  warnings.warn(msg)\n"
     ]
    },
    {
     "data": {
      "text/html": [
       "<div>\n",
       "<style scoped>\n",
       "    .dataframe tbody tr th:only-of-type {\n",
       "        vertical-align: middle;\n",
       "    }\n",
       "\n",
       "    .dataframe tbody tr th {\n",
       "        vertical-align: top;\n",
       "    }\n",
       "\n",
       "    .dataframe thead th {\n",
       "        text-align: right;\n",
       "    }\n",
       "</style>\n",
       "<table border=\"1\" class=\"dataframe\">\n",
       "  <thead>\n",
       "    <tr style=\"text-align: right;\">\n",
       "      <th></th>\n",
       "      <th>High</th>\n",
       "      <th>Low</th>\n",
       "      <th>Open</th>\n",
       "      <th>Close</th>\n",
       "      <th>Volume</th>\n",
       "      <th>Adj Close</th>\n",
       "      <th>symbol</th>\n",
       "    </tr>\n",
       "    <tr>\n",
       "      <th>Date</th>\n",
       "      <th></th>\n",
       "      <th></th>\n",
       "      <th></th>\n",
       "      <th></th>\n",
       "      <th></th>\n",
       "      <th></th>\n",
       "      <th></th>\n",
       "    </tr>\n",
       "  </thead>\n",
       "  <tbody>\n",
       "    <tr>\n",
       "      <th>2021-01-04</th>\n",
       "      <td>43.500000</td>\n",
       "      <td>43.049999</td>\n",
       "      <td>43.200001</td>\n",
       "      <td>43.200001</td>\n",
       "      <td>13705760.0</td>\n",
       "      <td>40.352589</td>\n",
       "      <td>1101</td>\n",
       "    </tr>\n",
       "    <tr>\n",
       "      <th>2021-01-05</th>\n",
       "      <td>43.400002</td>\n",
       "      <td>43.000000</td>\n",
       "      <td>43.250000</td>\n",
       "      <td>43.099998</td>\n",
       "      <td>16601334.0</td>\n",
       "      <td>40.259178</td>\n",
       "      <td>1101</td>\n",
       "    </tr>\n",
       "    <tr>\n",
       "      <th>2021-01-06</th>\n",
       "      <td>43.299999</td>\n",
       "      <td>42.799999</td>\n",
       "      <td>43.099998</td>\n",
       "      <td>42.950001</td>\n",
       "      <td>18966159.0</td>\n",
       "      <td>40.119068</td>\n",
       "      <td>1101</td>\n",
       "    </tr>\n",
       "    <tr>\n",
       "      <th>2021-01-07</th>\n",
       "      <td>43.150002</td>\n",
       "      <td>42.849998</td>\n",
       "      <td>42.950001</td>\n",
       "      <td>42.849998</td>\n",
       "      <td>21021508.0</td>\n",
       "      <td>40.025658</td>\n",
       "      <td>1101</td>\n",
       "    </tr>\n",
       "    <tr>\n",
       "      <th>2021-01-08</th>\n",
       "      <td>43.000000</td>\n",
       "      <td>42.799999</td>\n",
       "      <td>42.900002</td>\n",
       "      <td>42.950001</td>\n",
       "      <td>17371239.0</td>\n",
       "      <td>40.119068</td>\n",
       "      <td>1101</td>\n",
       "    </tr>\n",
       "  </tbody>\n",
       "</table>\n",
       "</div>"
      ],
      "text/plain": [
       "                 High        Low       Open      Close      Volume  Adj Close  \\\n",
       "Date                                                                            \n",
       "2021-01-04  43.500000  43.049999  43.200001  43.200001  13705760.0  40.352589   \n",
       "2021-01-05  43.400002  43.000000  43.250000  43.099998  16601334.0  40.259178   \n",
       "2021-01-06  43.299999  42.799999  43.099998  42.950001  18966159.0  40.119068   \n",
       "2021-01-07  43.150002  42.849998  42.950001  42.849998  21021508.0  40.025658   \n",
       "2021-01-08  43.000000  42.799999  42.900002  42.950001  17371239.0  40.119068   \n",
       "\n",
       "           symbol  \n",
       "Date               \n",
       "2021-01-04   1101  \n",
       "2021-01-05   1101  \n",
       "2021-01-06   1101  \n",
       "2021-01-07   1101  \n",
       "2021-01-08   1101  "
      ]
     },
     "execution_count": 1,
     "metadata": {},
     "output_type": "execute_result"
    }
   ],
   "source": [
    "import pandas\n",
    "df = pandas.read_csv('data/20211109_top150_tw_stocks.csv')\n",
    "df.set_index('Date', inplace=True)\n",
    "df.head()"
   ]
  },
  {
   "cell_type": "markdown",
   "id": "a43cb2cb",
   "metadata": {},
   "source": [
    "## 建立環境"
   ]
  },
  {
   "cell_type": "code",
   "execution_count": 2,
   "id": "95b57eec",
   "metadata": {},
   "outputs": [
    {
     "name": "stderr",
     "output_type": "stream",
     "text": [
      "/Volumes/Macintosh HD - Data/Users/davidchiu/project/Deep-Portfolio-Management/utils.py:13: MatplotlibDeprecationWarning: You are modifying the state of a globally registered colormap. This has been deprecated since 3.3 and in 3.6, you will not be able to modify a registered colormap in-place. To remove this warning, you can make a copy of the colormap first. cmap = mpl.cm.get_cmap(\"viridis\").copy()\n",
      "  current_cmap.set_bad(color='red')\n"
     ]
    }
   ],
   "source": [
    "from environment import ETFEnvironment\n",
    "from agent import SmoothingAgent\n",
    "from utils import *"
   ]
  },
  {
   "cell_type": "code",
   "execution_count": 3,
   "id": "e45aa7ea",
   "metadata": {},
   "outputs": [],
   "source": [
    "N_ASSETS = 138 # 138 隻股票\n",
    "WINDOW_FIT = 20 # 20 天週期\n",
    "WINDOW_HOLD = 20 # 20 天週期\n",
    "env = ETFEnvironment()"
   ]
  },
  {
   "cell_type": "markdown",
   "id": "745317e0",
   "metadata": {},
   "source": [
    "## Forecasting 方法"
   ]
  },
  {
   "cell_type": "code",
   "execution_count": 4,
   "id": "3bd5f79e",
   "metadata": {},
   "outputs": [],
   "source": [
    "agent_smooth = SmoothingAgent(N_ASSETS, allow_short=True, forecast_horizon = WINDOW_HOLD)"
   ]
  },
  {
   "cell_type": "code",
   "execution_count": 6,
   "id": "40102f61",
   "metadata": {},
   "outputs": [],
   "source": [
    "import warnings\n",
    "warnings.filterwarnings('ignore')\n",
    "\n",
    "actions_equal, actions_smooth = [], []\n",
    "result_equal, result_smooth = [], []\n",
    "\n",
    "for i in range(WINDOW_FIT, len(env.data), WINDOW_HOLD):\n",
    "    \n",
    "    state = env.get_state(i, WINDOW_FIT, is_cov_matrix=False, is_raw_time_series=True)\n",
    "    \n",
    "    action_equal = np.ones(N_ASSETS) / N_ASSETS\n",
    "    action_smooth = agent_smooth.act(state)\n",
    "\n",
    "    state_action = env.get_state(i+WINDOW_HOLD, WINDOW_HOLD, is_cov_matrix=False)\n",
    "    \n",
    "    r = np.dot(state_action, action_equal)\n",
    "    result_equal.append(r.tolist())\n",
    "    actions_equal.append(action_equal)\n",
    "    \n",
    "    r = np.dot(state_action, action_smooth)\n",
    "    result_smooth.append(r.tolist())\n",
    "    actions_smooth.append(action_smooth)"
   ]
  },
  {
   "cell_type": "code",
   "execution_count": 7,
   "id": "30193758",
   "metadata": {},
   "outputs": [],
   "source": [
    "result_equal_vis = [item for sublist in result_equal for item in sublist]\n",
    "result_smooth_vis = [item for sublist in result_smooth for item in sublist]"
   ]
  },
  {
   "cell_type": "code",
   "execution_count": 8,
   "id": "a5617de5",
   "metadata": {},
   "outputs": [
    {
     "data": {
      "text/html": [
       "<div>\n",
       "<style scoped>\n",
       "    .dataframe tbody tr th:only-of-type {\n",
       "        vertical-align: middle;\n",
       "    }\n",
       "\n",
       "    .dataframe tbody tr th {\n",
       "        vertical-align: top;\n",
       "    }\n",
       "\n",
       "    .dataframe thead th {\n",
       "        text-align: right;\n",
       "    }\n",
       "</style>\n",
       "<table border=\"1\" class=\"dataframe\">\n",
       "  <thead>\n",
       "    <tr style=\"text-align: right;\">\n",
       "      <th></th>\n",
       "      <th>result_equal_vis</th>\n",
       "      <th>result_smooth_vis</th>\n",
       "    </tr>\n",
       "  </thead>\n",
       "  <tbody>\n",
       "    <tr>\n",
       "      <th>0</th>\n",
       "      <td>0.001805</td>\n",
       "      <td>0.000460</td>\n",
       "    </tr>\n",
       "    <tr>\n",
       "      <th>1</th>\n",
       "      <td>-0.002488</td>\n",
       "      <td>-0.008560</td>\n",
       "    </tr>\n",
       "    <tr>\n",
       "      <th>2</th>\n",
       "      <td>0.004718</td>\n",
       "      <td>0.003842</td>\n",
       "    </tr>\n",
       "    <tr>\n",
       "      <th>3</th>\n",
       "      <td>0.021762</td>\n",
       "      <td>-0.000912</td>\n",
       "    </tr>\n",
       "    <tr>\n",
       "      <th>4</th>\n",
       "      <td>0.008143</td>\n",
       "      <td>-0.004950</td>\n",
       "    </tr>\n",
       "  </tbody>\n",
       "</table>\n",
       "</div>"
      ],
      "text/plain": [
       "   result_equal_vis  result_smooth_vis\n",
       "0          0.001805           0.000460\n",
       "1         -0.002488          -0.008560\n",
       "2          0.004718           0.003842\n",
       "3          0.021762          -0.000912\n",
       "4          0.008143          -0.004950"
      ]
     },
     "execution_count": 8,
     "metadata": {},
     "output_type": "execute_result"
    }
   ],
   "source": [
    "results = pandas.DataFrame({'result_equal_vis':result_equal_vis, \n",
    "                  'result_smooth_vis': result_smooth_vis})\n",
    "results.head()"
   ]
  },
  {
   "cell_type": "markdown",
   "id": "8a92af95",
   "metadata": {},
   "source": [
    "## 匯出運算結果"
   ]
  },
  {
   "cell_type": "code",
   "execution_count": 9,
   "id": "906cbd32",
   "metadata": {},
   "outputs": [],
   "source": [
    "results.to_csv('data/forecasting_result.csv')"
   ]
  },
  {
   "cell_type": "markdown",
   "id": "39956ecd",
   "metadata": {},
   "source": [
    "## 評估資產配置效果"
   ]
  },
  {
   "cell_type": "code",
   "execution_count": 10,
   "id": "0b389c6f",
   "metadata": {},
   "outputs": [
    {
     "data": {
      "text/html": [
       "<div>\n",
       "<style scoped>\n",
       "    .dataframe tbody tr th:only-of-type {\n",
       "        vertical-align: middle;\n",
       "    }\n",
       "\n",
       "    .dataframe tbody tr th {\n",
       "        vertical-align: top;\n",
       "    }\n",
       "\n",
       "    .dataframe thead th {\n",
       "        text-align: right;\n",
       "    }\n",
       "</style>\n",
       "<table border=\"1\" class=\"dataframe\">\n",
       "  <thead>\n",
       "    <tr style=\"text-align: right;\">\n",
       "      <th></th>\n",
       "      <th>result_equal_vis</th>\n",
       "      <th>result_smooth_vis</th>\n",
       "    </tr>\n",
       "  </thead>\n",
       "  <tbody>\n",
       "    <tr>\n",
       "      <th>0</th>\n",
       "      <td>0.001805</td>\n",
       "      <td>0.000460</td>\n",
       "    </tr>\n",
       "    <tr>\n",
       "      <th>1</th>\n",
       "      <td>-0.002488</td>\n",
       "      <td>-0.008560</td>\n",
       "    </tr>\n",
       "    <tr>\n",
       "      <th>2</th>\n",
       "      <td>0.004718</td>\n",
       "      <td>0.003842</td>\n",
       "    </tr>\n",
       "    <tr>\n",
       "      <th>3</th>\n",
       "      <td>0.021762</td>\n",
       "      <td>-0.000912</td>\n",
       "    </tr>\n",
       "    <tr>\n",
       "      <th>4</th>\n",
       "      <td>0.008143</td>\n",
       "      <td>-0.004950</td>\n",
       "    </tr>\n",
       "  </tbody>\n",
       "</table>\n",
       "</div>"
      ],
      "text/plain": [
       "   result_equal_vis  result_smooth_vis\n",
       "0          0.001805           0.000460\n",
       "1         -0.002488          -0.008560\n",
       "2          0.004718           0.003842\n",
       "3          0.021762          -0.000912\n",
       "4          0.008143          -0.004950"
      ]
     },
     "execution_count": 10,
     "metadata": {},
     "output_type": "execute_result"
    }
   ],
   "source": [
    "import pandas\n",
    "df = pandas.read_csv('data/forecasting_result.csv', index_col = 0)\n",
    "df.head()"
   ]
  },
  {
   "cell_type": "code",
   "execution_count": 11,
   "id": "1f11b7ae",
   "metadata": {},
   "outputs": [
    {
     "data": {
      "text/plain": [
       "<AxesSubplot:>"
      ]
     },
     "execution_count": 11,
     "metadata": {},
     "output_type": "execute_result"
    },
    {
     "data": {
      "image/png": "[encoded data removed]",
      "text/plain": [
       "<Figure size 1440x720 with 1 Axes>"
      ]
     },
     "metadata": {
      "needs_background": "light"
     },
     "output_type": "display_data"
    }
   ],
   "source": [
    "(df.cumsum() + 1).plot(kind = 'line', figsize = [20,10])"
   ]
  }
 ],
 "metadata": {
  "kernelspec": {
   "display_name": "Python 3 (ipykernel)",
   "language": "python",
   "name": "python3"
  },
  "language_info": {
   "codemirror_mode": {
    "name": "ipython",
    "version": 3
   },
   "file_extension": ".py",
   "mimetype": "text/x-python",
   "name": "python",
   "nbconvert_exporter": "python",
   "pygments_lexer": "ipython3",
   "version": "3.8.10"
  }
 },
 "nbformat": 4,
 "nbformat_minor": 5
}
