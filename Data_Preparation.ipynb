{
 "cells": [
  {
   "cell_type": "markdown",
   "id": "5494714c",
   "metadata": {},
   "source": [
    "## 下載市值前150 大股票 (台50 + 中100)\n",
    "- http://moneydj.emega.com.tw/js/T50_100.htm"
   ]
  },
  {
   "cell_type": "code",
   "execution_count": 2,
   "id": "ae2df82b",
   "metadata": {},
   "outputs": [],
   "source": [
    "stocks = ['1101', '2474', '1440', '2345', '2809', '6414', '1102', '2801', '1477', '2347', '2812', '6415', '1216', '2880', '1504', '2352', '2823', '6452', '1301', '2881', '1536', '2353', '2834', '6456', '1303', '2882', '1589', '2355', '2845', '8150', '1326', '2883', '1590', '2356', '2849', '8454', '1402', '2884', '1605', '2360', '2867', '8464', '1476', '2885', '1704', '2362', '2888', '9907', '2002', '2886', '1707', '2376', '2903', '9910', '2105', '2887', '1717', '2377', '2915', '9914', '2207', '2890', '1722', '2379', '3034', '9917', '2301', '2891', '1723', '2383', '3037', '9921', '2303', '2892', '1789', '2385', '3044', '9933', '2308', '2912', '1802', '2392', '3189', '9938', '2311', '3008', '2015', '2448', '3231', '9945', '2317', '3045', '2049', '2449', '3673', '5264', '2324', '3474', '2059', '2451', '3682', '2325', '3481', '2101', '2498', '3702', '2330', '4904', '2103', '2501', '4958', '2354', '4938', '2106', '2542', '5264', '2357', '5880', '2201', '2603', '5522', '2382', '6505', '2204', '2609', '5871', '2395', '9904', '2206', '2610', '6176', '2408', '1227', '2231', '2615', '6239', '2409', '1262', '2313', '2618', '6269', '2412', '1319', '2327', '2707', '6285']"
   ]
  },
  {
   "cell_type": "code",
   "execution_count": 3,
   "id": "2147e27f",
   "metadata": {},
   "outputs": [
    {
     "name": "stderr",
     "output_type": "stream",
     "text": [
      "/Users/david/.pyenv/versions/3.8.10/lib/python3.8/site-packages/pandas/compat/__init__.py:124: UserWarning: Could not import the lzma module. Your installed Python is incomplete. Attempting to use lzma compression will result in a RuntimeError.\n",
      "  warnings.warn(msg)\n"
     ]
    },
    {
     "name": "stdout",
     "output_type": "stream",
     "text": [
      "ERROR 6452\n",
      "ERROR 1704\n",
      "ERROR 2311\n",
      "ERROR 2448\n",
      "ERROR 5264\n",
      "ERROR 3474\n",
      "ERROR 2325\n",
      "ERROR 5264\n",
      "ERROR 1262\n"
     ]
    }
   ],
   "source": [
    "from  pandas_datareader import DataReader\n",
    "\n",
    "ary = []\n",
    "for s in stocks:\n",
    "    try:\n",
    "        df = DataReader('{}.TW'.format(s), data_source = 'yahoo', start = '2021-01-01')\n",
    "        df['symbol'] = s\n",
    "        ary.append(df)\n",
    "    except:\n",
    "        print('ERROR', s)"
   ]
  },
  {
   "cell_type": "code",
   "execution_count": 14,
   "id": "cad6d496",
   "metadata": {},
   "outputs": [],
   "source": [
    "for df in ary:\n",
    "    df['symbol'] = df['symbol'].astype(str)"
   ]
  },
  {
   "cell_type": "markdown",
   "id": "eaa4a16d",
   "metadata": {},
   "source": [
    "## 下載大盤指數"
   ]
  },
  {
   "cell_type": "code",
   "execution_count": 15,
   "id": "93e7f4cb",
   "metadata": {},
   "outputs": [
    {
     "data": {
      "text/html": [
       "<div>\n",
       "<style scoped>\n",
       "    .dataframe tbody tr th:only-of-type {\n",
       "        vertical-align: middle;\n",
       "    }\n",
       "\n",
       "    .dataframe tbody tr th {\n",
       "        vertical-align: top;\n",
       "    }\n",
       "\n",
       "    .dataframe thead th {\n",
       "        text-align: right;\n",
       "    }\n",
       "</style>\n",
       "<table border=\"1\" class=\"dataframe\">\n",
       "  <thead>\n",
       "    <tr style=\"text-align: right;\">\n",
       "      <th></th>\n",
       "      <th>High</th>\n",
       "      <th>Low</th>\n",
       "      <th>Open</th>\n",
       "      <th>Close</th>\n",
       "      <th>Volume</th>\n",
       "      <th>Adj Close</th>\n",
       "    </tr>\n",
       "    <tr>\n",
       "      <th>Date</th>\n",
       "      <th></th>\n",
       "      <th></th>\n",
       "      <th></th>\n",
       "      <th></th>\n",
       "      <th></th>\n",
       "      <th></th>\n",
       "    </tr>\n",
       "  </thead>\n",
       "  <tbody>\n",
       "    <tr>\n",
       "      <th>2021-01-04</th>\n",
       "      <td>14937.129883</td>\n",
       "      <td>14720.250000</td>\n",
       "      <td>14720.250000</td>\n",
       "      <td>14902.030273</td>\n",
       "      <td>6487600</td>\n",
       "      <td>14902.030273</td>\n",
       "    </tr>\n",
       "    <tr>\n",
       "      <th>2021-01-05</th>\n",
       "      <td>15000.030273</td>\n",
       "      <td>14861.990234</td>\n",
       "      <td>14913.639648</td>\n",
       "      <td>15000.030273</td>\n",
       "      <td>6302200</td>\n",
       "      <td>15000.030273</td>\n",
       "    </tr>\n",
       "    <tr>\n",
       "      <th>2021-01-06</th>\n",
       "      <td>15197.679688</td>\n",
       "      <td>14837.000000</td>\n",
       "      <td>15145.849609</td>\n",
       "      <td>14983.129883</td>\n",
       "      <td>7787000</td>\n",
       "      <td>14983.129883</td>\n",
       "    </tr>\n",
       "    <tr>\n",
       "      <th>2021-01-07</th>\n",
       "      <td>15270.400391</td>\n",
       "      <td>15049.860352</td>\n",
       "      <td>15059.519531</td>\n",
       "      <td>15214.000000</td>\n",
       "      <td>5878900</td>\n",
       "      <td>15214.000000</td>\n",
       "    </tr>\n",
       "    <tr>\n",
       "      <th>2021-01-08</th>\n",
       "      <td>15463.950195</td>\n",
       "      <td>15275.379883</td>\n",
       "      <td>15365.129883</td>\n",
       "      <td>15463.950195</td>\n",
       "      <td>6192800</td>\n",
       "      <td>15463.950195</td>\n",
       "    </tr>\n",
       "  </tbody>\n",
       "</table>\n",
       "</div>"
      ],
      "text/plain": [
       "                    High           Low          Open         Close   Volume  \\\n",
       "Date                                                                          \n",
       "2021-01-04  14937.129883  14720.250000  14720.250000  14902.030273  6487600   \n",
       "2021-01-05  15000.030273  14861.990234  14913.639648  15000.030273  6302200   \n",
       "2021-01-06  15197.679688  14837.000000  15145.849609  14983.129883  7787000   \n",
       "2021-01-07  15270.400391  15049.860352  15059.519531  15214.000000  5878900   \n",
       "2021-01-08  15463.950195  15275.379883  15365.129883  15463.950195  6192800   \n",
       "\n",
       "               Adj Close  \n",
       "Date                      \n",
       "2021-01-04  14902.030273  \n",
       "2021-01-05  15000.030273  \n",
       "2021-01-06  14983.129883  \n",
       "2021-01-07  15214.000000  \n",
       "2021-01-08  15463.950195  "
      ]
     },
     "execution_count": 15,
     "metadata": {},
     "output_type": "execute_result"
    }
   ],
   "source": [
    "df = DataReader('^TWII'.format(s), data_source = 'yahoo', start = '2021-01-01')\n",
    "df.head()"
   ]
  },
  {
   "cell_type": "code",
   "execution_count": 16,
   "id": "f5b18f84",
   "metadata": {},
   "outputs": [],
   "source": [
    "df['symbol'] = '^TWII'"
   ]
  },
  {
   "cell_type": "code",
   "execution_count": 17,
   "id": "db4cd2c2",
   "metadata": {},
   "outputs": [],
   "source": [
    "ary.append(df)"
   ]
  },
  {
   "cell_type": "markdown",
   "id": "986d5b19",
   "metadata": {},
   "source": [
    "## 將資料匯出成 csv 檔案"
   ]
  },
  {
   "cell_type": "code",
   "execution_count": 4,
   "id": "3d676854",
   "metadata": {},
   "outputs": [],
   "source": [
    "! mkdir data"
   ]
  },
  {
   "cell_type": "code",
   "execution_count": 19,
   "id": "41fa1d5f",
   "metadata": {},
   "outputs": [],
   "source": [
    "import pandas\n",
    "dfall = pandas.concat(ary)\n",
    "dfall.to_csv('data/20211109_top150_tw_stocks.csv')"
   ]
  },
  {
   "cell_type": "markdown",
   "id": "2c9ad695",
   "metadata": {},
   "source": [
    "## 匯出模型需要檔案"
   ]
  },
  {
   "cell_type": "code",
   "execution_count": 20,
   "id": "da746f4d",
   "metadata": {},
   "outputs": [
    {
     "data": {
      "text/html": [
       "<div>\n",
       "<style scoped>\n",
       "    .dataframe tbody tr th:only-of-type {\n",
       "        vertical-align: middle;\n",
       "    }\n",
       "\n",
       "    .dataframe tbody tr th {\n",
       "        vertical-align: top;\n",
       "    }\n",
       "\n",
       "    .dataframe thead th {\n",
       "        text-align: right;\n",
       "    }\n",
       "</style>\n",
       "<table border=\"1\" class=\"dataframe\">\n",
       "  <thead>\n",
       "    <tr style=\"text-align: right;\">\n",
       "      <th></th>\n",
       "      <th>High</th>\n",
       "      <th>Low</th>\n",
       "      <th>Open</th>\n",
       "      <th>Close</th>\n",
       "      <th>Volume</th>\n",
       "      <th>Adj Close</th>\n",
       "      <th>symbol</th>\n",
       "    </tr>\n",
       "    <tr>\n",
       "      <th>Date</th>\n",
       "      <th></th>\n",
       "      <th></th>\n",
       "      <th></th>\n",
       "      <th></th>\n",
       "      <th></th>\n",
       "      <th></th>\n",
       "      <th></th>\n",
       "    </tr>\n",
       "  </thead>\n",
       "  <tbody>\n",
       "    <tr>\n",
       "      <th>2021-01-04</th>\n",
       "      <td>43.500000</td>\n",
       "      <td>43.049999</td>\n",
       "      <td>43.200001</td>\n",
       "      <td>43.200001</td>\n",
       "      <td>13705760.0</td>\n",
       "      <td>40.352589</td>\n",
       "      <td>1101</td>\n",
       "    </tr>\n",
       "    <tr>\n",
       "      <th>2021-01-05</th>\n",
       "      <td>43.400002</td>\n",
       "      <td>43.000000</td>\n",
       "      <td>43.250000</td>\n",
       "      <td>43.099998</td>\n",
       "      <td>16601334.0</td>\n",
       "      <td>40.259178</td>\n",
       "      <td>1101</td>\n",
       "    </tr>\n",
       "    <tr>\n",
       "      <th>2021-01-06</th>\n",
       "      <td>43.299999</td>\n",
       "      <td>42.799999</td>\n",
       "      <td>43.099998</td>\n",
       "      <td>42.950001</td>\n",
       "      <td>18966159.0</td>\n",
       "      <td>40.119068</td>\n",
       "      <td>1101</td>\n",
       "    </tr>\n",
       "    <tr>\n",
       "      <th>2021-01-07</th>\n",
       "      <td>43.150002</td>\n",
       "      <td>42.849998</td>\n",
       "      <td>42.950001</td>\n",
       "      <td>42.849998</td>\n",
       "      <td>21021508.0</td>\n",
       "      <td>40.025658</td>\n",
       "      <td>1101</td>\n",
       "    </tr>\n",
       "    <tr>\n",
       "      <th>2021-01-08</th>\n",
       "      <td>43.000000</td>\n",
       "      <td>42.799999</td>\n",
       "      <td>42.900002</td>\n",
       "      <td>42.950001</td>\n",
       "      <td>17371239.0</td>\n",
       "      <td>40.119068</td>\n",
       "      <td>1101</td>\n",
       "    </tr>\n",
       "  </tbody>\n",
       "</table>\n",
       "</div>"
      ],
      "text/plain": [
       "                 High        Low       Open      Close      Volume  Adj Close  \\\n",
       "Date                                                                            \n",
       "2021-01-04  43.500000  43.049999  43.200001  43.200001  13705760.0  40.352589   \n",
       "2021-01-05  43.400002  43.000000  43.250000  43.099998  16601334.0  40.259178   \n",
       "2021-01-06  43.299999  42.799999  43.099998  42.950001  18966159.0  40.119068   \n",
       "2021-01-07  43.150002  42.849998  42.950001  42.849998  21021508.0  40.025658   \n",
       "2021-01-08  43.000000  42.799999  42.900002  42.950001  17371239.0  40.119068   \n",
       "\n",
       "           symbol  \n",
       "Date               \n",
       "2021-01-04   1101  \n",
       "2021-01-05   1101  \n",
       "2021-01-06   1101  \n",
       "2021-01-07   1101  \n",
       "2021-01-08   1101  "
      ]
     },
     "execution_count": 20,
     "metadata": {},
     "output_type": "execute_result"
    }
   ],
   "source": [
    "import pandas\n",
    "df = pandas.read_csv('data/20211109_top150_tw_stocks.csv')\n",
    "df.set_index('Date', inplace=True)\n",
    "df.head()"
   ]
  },
  {
   "cell_type": "code",
   "execution_count": 32,
   "id": "4a8e124c",
   "metadata": {},
   "outputs": [],
   "source": [
    "# Price\n",
    "price = pandas.pivot_table(df, index=df.index, values = 'Close', columns= 'symbol') \n",
    "price.to_csv('data/prices.txt')\n",
    "\n",
    "# Volumes\n",
    "vol = pandas.pivot_table(df, index=df.index, values = 'Volume', columns= 'symbol') \n",
    "vol.to_csv('data/volumes.txt')\n",
    "\n",
    "# Returns\n",
    "returns = price.pct_change(1)\n",
    "returns = returns.fillna(0)\n",
    "returns = returns.iloc[1:,:]\n",
    "returns.to_csv('data/returns.txt')"
   ]
  }
 ],
 "metadata": {
  "kernelspec": {
   "display_name": "Python 3 (ipykernel)",
   "language": "python",
   "name": "python3"
  },
  "language_info": {
   "codemirror_mode": {
    "name": "ipython",
    "version": 3
   },
   "file_extension": ".py",
   "mimetype": "text/x-python",
   "name": "python",
   "nbconvert_exporter": "python",
   "pygments_lexer": "ipython3",
   "version": "3.8.10"
  }
 },
 "nbformat": 4,
 "nbformat_minor": 5
}
