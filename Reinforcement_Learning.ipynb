{
 "cells": [
  {
   "cell_type": "markdown",
   "id": "034f46bb",
   "metadata": {},
   "source": [
    "## 引入套件"
   ]
  },
  {
   "cell_type": "code",
   "execution_count": 1,
   "id": "0d546ee0",
   "metadata": {},
   "outputs": [],
   "source": [
    "import warnings\n",
    "warnings.filterwarnings('ignore')\n",
    "\n",
    "from keras.layers import Input, Dense, Flatten, Dropout\n",
    "from keras.models import Model\n",
    "from keras.regularizers import l2\n",
    "\n",
    "import numpy as np\n",
    "import pandas as pd\n",
    "\n",
    "import random\n",
    "from collections import deque\n",
    "import matplotlib.pylab as plt\n"
   ]
  },
  {
   "cell_type": "code",
   "execution_count": 2,
   "id": "779d2ca0",
   "metadata": {},
   "outputs": [],
   "source": [
    "from environment import ETFEnvironment\n",
    "from utils import *"
   ]
  },
  {
   "cell_type": "markdown",
   "id": "589fb92a",
   "metadata": {},
   "source": [
    "## 強化學習機器人"
   ]
  },
  {
   "cell_type": "code",
   "execution_count": 3,
   "id": "7c3255d8",
   "metadata": {},
   "outputs": [],
   "source": [
    "class Agent:\n",
    "    \n",
    "    def __init__(\n",
    "                     self, \n",
    "                     portfolio_size,\n",
    "                     is_eval = False, \n",
    "                     allow_short = True,\n",
    "                 ):\n",
    "        \n",
    "        self.portfolio_size = portfolio_size\n",
    "        self.allow_short = allow_short\n",
    "        self.input_shape = (portfolio_size, portfolio_size, )\n",
    "        self.action_size = 3 # sit, buy, sell\n",
    "        \n",
    "        self.memory4replay = []\n",
    "        self.is_eval = is_eval\n",
    "\n",
    "        self.alpha = 0.5\n",
    "        self.gamma = 0.95\n",
    "        self.epsilon = 1.0\n",
    "        self.epsilon_min = 0.01\n",
    "        self.epsilon_decay = 0.99\n",
    "        \n",
    "        self.model = self._model()\n",
    "\n",
    "    def _model(self):\n",
    "        \n",
    "        inputs = Input(shape=self.input_shape)        \n",
    "        x = Flatten()(inputs)\n",
    "        x = Dense(100, activation='elu')(x)\n",
    "        x = Dropout(0.5)(x)\n",
    "        x = Dense(50, activation='elu')(x)\n",
    "        x = Dropout(0.5)(x)\n",
    "        \n",
    "        predictions = []\n",
    "        for i in range(self.portfolio_size):\n",
    "            asset_dense = Dense(self.action_size, activation='linear')(x)   \n",
    "            predictions.append(asset_dense)\n",
    "        \n",
    "        model = Model(inputs=inputs, outputs=predictions)\n",
    "        model.compile(optimizer='adam', loss='mse')\n",
    "        return model\n",
    "\n",
    "    def nn_pred_to_weights(self, pred, allow_short = False):\n",
    "\n",
    "        weights = np.zeros(len(pred))\n",
    "        raw_weights = np.argmax(pred, axis=-1)\n",
    "\n",
    "        saved_min = None\n",
    "        \n",
    "        for e, r in enumerate(raw_weights):\n",
    "            if r == 0: # sit\n",
    "                weights[e] = 0\n",
    "            elif r == 1: # buy\n",
    "                weights[e] = np.abs(pred[e][0][r])\n",
    "            else:\n",
    "                weights[e] = -np.abs(pred[e][0][r])\n",
    "\n",
    "        if not allow_short:\n",
    "            weights += np.abs(np.min(weights))\n",
    "            saved_min = np.abs(np.min(weights))\n",
    "            saved_sum = np.sum(weights)\n",
    "        else:\n",
    "            saved_sum = np.sum(np.abs(weights))\n",
    "            \n",
    "        weights /= saved_sum\n",
    "        return weights, saved_min, saved_sum\n",
    "    \n",
    "    def act(self, state):\n",
    "        \n",
    "        if not self.is_eval and random.random() <= self.epsilon:\n",
    "            w = np.random.normal(0, 1, size = (self.portfolio_size, ))  \n",
    "              \n",
    "            saved_min = None\n",
    "            \n",
    "            if not self.allow_short:\n",
    "                w += np.abs(np.min(w))\n",
    "                saved_min = np.abs(np.min(w))\n",
    "                \n",
    "            saved_sum = np.sum(w)\n",
    "            w /= saved_sum\n",
    "            return w , saved_min, saved_sum\n",
    "\n",
    "        pred = self.model.predict(np.expand_dims(state.values, 0))\n",
    "        return self.nn_pred_to_weights(pred, self.allow_short)\n",
    "\n",
    "    def expReplay(self, batch_size):\n",
    "\n",
    "        def weights_to_nn_preds_with_reward(action_weights, \n",
    "                                            reward, \n",
    "                                            Q_star = np.zeros((self.portfolio_size, self.action_size))): \n",
    "            \n",
    "            Q = np.zeros((self.portfolio_size, self.action_size))           \n",
    "            for i in range(self.portfolio_size):\n",
    "                if action_weights[i] == 0:\n",
    "                    Q[i][0] = reward[i] + self.gamma * np.max(Q_star[i][0])\n",
    "                elif action_weights[i] > 0:\n",
    "                    Q[i][1] = reward[i] + self.gamma * np.max(Q_star[i][1])\n",
    "                else:\n",
    "                    Q[i][2] = reward[i] + self.gamma * np.max(Q_star[i][2])            \n",
    "            return Q  \n",
    "        \n",
    "        def restore_Q_from_weights_and_stats(action):            \n",
    "            action_weights, action_min, action_sum = action[0], action[1], action[2]\n",
    "            action_weights = action_weights * action_sum          \n",
    "            if action_min != None:\n",
    "                action_weights = action_weights - action_min   \n",
    "            return action_weights\n",
    "        \n",
    "        for (s, s_, action, reward, done) in self.memory4replay:\n",
    "            \n",
    "            action_weights = restore_Q_from_weights_and_stats(action) \n",
    "            Q_learned_value = weights_to_nn_preds_with_reward(action_weights, reward)\n",
    "            s, s_ = s.values, s_.values    \n",
    "\n",
    "            if not done:\n",
    "                # reward + gamma * Q^*(s_, a_)\n",
    "                Q_star = self.model.predict(np.expand_dims(s_, 0))\n",
    "                Q_learned_value = weights_to_nn_preds_with_reward(action_weights, reward, np.squeeze(Q_star))  \n",
    "\n",
    "            Q_learned_value = [xi.reshape(1, -1) for xi in Q_learned_value]\n",
    "            Q_current_value = self.model.predict(np.expand_dims(s, 0))\n",
    "            Q = [np.add(a * (1-self.alpha), q * self.alpha) for a, q in zip(Q_current_value, Q_learned_value)]\n",
    "            \n",
    "            # update current Q function with new optimal value\n",
    "            self.model.fit(np.expand_dims(s, 0), Q, epochs=1, verbose=0)            \n",
    "        \n",
    "        if self.epsilon > self.epsilon_min:\n",
    "            self.epsilon *= self.epsilon_decay"
   ]
  },
  {
   "cell_type": "markdown",
   "id": "0056e9b4",
   "metadata": {},
   "source": [
    "## 訓練模型"
   ]
  },
  {
   "cell_type": "code",
   "execution_count": 4,
   "id": "27d624d8",
   "metadata": {},
   "outputs": [
    {
     "name": "stderr",
     "output_type": "stream",
     "text": [
      "2021-11-09 16:12:57.667438: I tensorflow/core/platform/cpu_feature_guard.cc:142] This TensorFlow binary is optimized with oneAPI Deep Neural Network Library (oneDNN) to use the following CPU instructions in performance-critical operations:  AVX2 FMA\n",
      "To enable them in other operations, rebuild TensorFlow with the appropriate compiler flags.\n"
     ]
    }
   ],
   "source": [
    "N_ASSETS = 138 \n",
    "agent = Agent(N_ASSETS)\n",
    "env = ETFEnvironment()"
   ]
  },
  {
   "cell_type": "code",
   "execution_count": 5,
   "id": "c068c743",
   "metadata": {},
   "outputs": [],
   "source": [
    "window_size = 20\n",
    "episode_count = 50\n",
    "batch_size = 32\n",
    "rebalance_period = 20"
   ]
  },
  {
   "cell_type": "code",
   "execution_count": 29,
   "id": "e5666c12",
   "metadata": {
    "scrolled": false
   },
   "outputs": [
    {
     "name": "stdout",
     "output_type": "stream",
     "text": [
      "Episode 0/50 epsilon 0.5989560064661611\n",
      "Episode 1/50 epsilon 0.5929664464014994\n",
      "Episode 2/50 epsilon 0.5929664464014994\n",
      "Episode 3/50 epsilon 0.5929664464014994\n",
      "Episode 4/50 epsilon 0.5870367819374844\n",
      "Episode 5/50 epsilon 0.5870367819374844\n",
      "Episode 6/50 epsilon 0.5870367819374844\n",
      "Episode 7/50 epsilon 0.5811664141181095\n",
      "Episode 8/50 epsilon 0.5811664141181095\n",
      "Episode 9/50 epsilon 0.5811664141181095\n",
      "Episode 10/50 epsilon 0.5811664141181095\n",
      "Episode 11/50 epsilon 0.5753547499769285\n",
      "Episode 12/50 epsilon 0.5753547499769285\n",
      "Episode 13/50 epsilon 0.5753547499769285\n",
      "Episode 14/50 epsilon 0.5696012024771592\n",
      "Episode 15/50 epsilon 0.5696012024771592\n",
      "Episode 16/50 epsilon 0.5696012024771592\n",
      "Episode 17/50 epsilon 0.5639051904523876\n",
      "Episode 18/50 epsilon 0.5639051904523876\n",
      "Episode 19/50 epsilon 0.5639051904523876\n",
      "Episode 20/50 epsilon 0.5582661385478638\n",
      "Episode 21/50 epsilon 0.5582661385478638\n",
      "Episode 22/50 epsilon 0.5582661385478638\n",
      "Episode 23/50 epsilon 0.5526834771623851\n",
      "Episode 24/50 epsilon 0.5526834771623851\n",
      "Episode 25/50 epsilon 0.5526834771623851\n",
      "Episode 26/50 epsilon 0.5526834771623851\n",
      "Episode 27/50 epsilon 0.5471566423907612\n",
      "Episode 28/50 epsilon 0.5471566423907612\n",
      "Episode 29/50 epsilon 0.5471566423907612\n",
      "Episode 30/50 epsilon 0.5416850759668536\n",
      "Episode 31/50 epsilon 0.5416850759668536\n",
      "Episode 32/50 epsilon 0.5416850759668536\n",
      "Episode 33/50 epsilon 0.536268225207185\n",
      "Episode 34/50 epsilon 0.536268225207185\n",
      "Episode 35/50 epsilon 0.536268225207185\n",
      "Episode 36/50 epsilon 0.5309055429551132\n",
      "Episode 37/50 epsilon 0.5309055429551132\n",
      "Episode 38/50 epsilon 0.5309055429551132\n",
      "Episode 39/50 epsilon 0.525596487525562\n",
      "Episode 40/50 epsilon 0.525596487525562\n",
      "Episode 41/50 epsilon 0.525596487525562\n",
      "Episode 42/50 epsilon 0.525596487525562\n",
      "Episode 43/50 epsilon 0.5203405226503064\n",
      "Episode 44/50 epsilon 0.5203405226503064\n",
      "Episode 45/50 epsilon 0.5203405226503064\n",
      "Episode 46/50 epsilon 0.5151371174238033\n",
      "Episode 47/50 epsilon 0.5151371174238033\n",
      "Episode 48/50 epsilon 0.5151371174238033\n",
      "Episode 49/50 epsilon 0.5099857462495653\n"
     ]
    }
   ],
   "source": [
    "for e in range(episode_count):\n",
    "    \n",
    "    agent.is_eval = False\n",
    "    data_length = len(env.data)\n",
    "    \n",
    "    returns_history = []\n",
    "    returns_history_equal = []\n",
    "    \n",
    "    rewards_history = []\n",
    "    equal_rewards = []\n",
    "    \n",
    "    actions_to_show = []\n",
    "    \n",
    "    print(\"Episode \" + str(e) + \"/\" + str(episode_count), 'epsilon', agent.epsilon)\n",
    "\n",
    "    s = env.get_state(np.random.randint(window_size+1, data_length-window_size-1), window_size)\n",
    "    total_profit = 0 \n",
    "\n",
    "    for t in range(window_size, data_length, rebalance_period):\n",
    "\n",
    "        date1 = t-rebalance_period\n",
    "        \n",
    "        s_ = env.get_state(t, window_size)\n",
    "        action = agent.act(s_)\n",
    "        \n",
    "        actions_to_show.append(action[0])\n",
    "\n",
    "        weighted_returns, reward = env.get_reward(action[0], date1, t)\n",
    "        weighted_returns_equal, reward_equal = env.get_reward(\n",
    "            np.ones(agent.portfolio_size) / agent.portfolio_size, date1, t)\n",
    "\n",
    "        rewards_history.append(reward)\n",
    "        equal_rewards.append(reward_equal)\n",
    "        returns_history.extend(weighted_returns)\n",
    "        returns_history_equal.extend(weighted_returns_equal)\n",
    "\n",
    "        done = True if t == data_length else False\n",
    "        agent.memory4replay.append((s, s_, action, reward, done))\n",
    "        \n",
    "        if len(agent.memory4replay) >= batch_size:\n",
    "            agent.expReplay(batch_size)\n",
    "            agent.memory4replay = []\n",
    "            \n",
    "        s = s_\n",
    "\n",
    "    rl_result = np.array(returns_history).cumsum()\n",
    "    equal_result = np.array(returns_history_equal).cumsum()\n",
    "\n",
    "    #plt.figure(figsize = (12, 2))\n",
    "    #plt.plot(rl_result, color = 'black', ls = '-')\n",
    "    #plt.plot(equal_result, color = 'grey', ls = '--')\n",
    "    #plt.show()\n",
    "    \n",
    "    #plt.figure(figsize = (12, 2))\n",
    "    #for a in actions_to_show:    \n",
    "    #    plt.bar(np.arange(N_ASSETS), a, color = 'grey', alpha = 0.25)\n",
    "    #    plt.xticks(np.arange(N_ASSETS), env.data.columns, rotation='vertical')\n",
    "    #plt.show()\n"
   ]
  },
  {
   "cell_type": "code",
   "execution_count": 30,
   "id": "e09373c6",
   "metadata": {},
   "outputs": [],
   "source": [
    "agent.is_eval = True\n",
    "\n",
    "actions_equal, actions_rl = [], []\n",
    "result_equal, result_rl = [], []\n",
    "\n",
    "for t in range(window_size, len(env.data), rebalance_period):\n",
    "\n",
    "    date1 = t-rebalance_period\n",
    "    s_ = env.get_state(t, window_size)\n",
    "    action = agent.act(s_)\n",
    "\n",
    "    weighted_returns, reward = env.get_reward(action[0], date1, t)\n",
    "    weighted_returns_equal, reward_equal = env.get_reward(\n",
    "        np.ones(agent.portfolio_size) / agent.portfolio_size, date1, t)\n",
    "\n",
    "    result_equal.append(weighted_returns_equal.tolist())\n",
    "    actions_equal.append(np.ones(agent.portfolio_size) / agent.portfolio_size)\n",
    "    \n",
    "    result_rl.append(weighted_returns.tolist())\n",
    "    actions_rl.append(action[0])"
   ]
  },
  {
   "cell_type": "code",
   "execution_count": 31,
   "id": "397e5e52",
   "metadata": {},
   "outputs": [],
   "source": [
    "result_equal_vis = [item for sublist in result_equal for item in sublist]\n",
    "result_rl_vis = [item for sublist in result_rl for item in sublist]"
   ]
  },
  {
   "cell_type": "code",
   "execution_count": 32,
   "id": "f4d13a16",
   "metadata": {},
   "outputs": [
    {
     "data": {
      "text/html": [
       "<div>\n",
       "<style scoped>\n",
       "    .dataframe tbody tr th:only-of-type {\n",
       "        vertical-align: middle;\n",
       "    }\n",
       "\n",
       "    .dataframe tbody tr th {\n",
       "        vertical-align: top;\n",
       "    }\n",
       "\n",
       "    .dataframe thead th {\n",
       "        text-align: right;\n",
       "    }\n",
       "</style>\n",
       "<table border=\"1\" class=\"dataframe\">\n",
       "  <thead>\n",
       "    <tr style=\"text-align: right;\">\n",
       "      <th></th>\n",
       "      <th>result_equal_vis</th>\n",
       "      <th>result_rl_vis</th>\n",
       "    </tr>\n",
       "  </thead>\n",
       "  <tbody>\n",
       "    <tr>\n",
       "      <th>0</th>\n",
       "      <td>-0.012084</td>\n",
       "      <td>-0.005933</td>\n",
       "    </tr>\n",
       "    <tr>\n",
       "      <th>1</th>\n",
       "      <td>0.007076</td>\n",
       "      <td>-0.000036</td>\n",
       "    </tr>\n",
       "    <tr>\n",
       "      <th>2</th>\n",
       "      <td>0.007679</td>\n",
       "      <td>0.003557</td>\n",
       "    </tr>\n",
       "    <tr>\n",
       "      <th>3</th>\n",
       "      <td>0.005810</td>\n",
       "      <td>0.000628</td>\n",
       "    </tr>\n",
       "    <tr>\n",
       "      <th>4</th>\n",
       "      <td>-0.010321</td>\n",
       "      <td>-0.002849</td>\n",
       "    </tr>\n",
       "  </tbody>\n",
       "</table>\n",
       "</div>"
      ],
      "text/plain": [
       "   result_equal_vis  result_rl_vis\n",
       "0         -0.012084      -0.005933\n",
       "1          0.007076      -0.000036\n",
       "2          0.007679       0.003557\n",
       "3          0.005810       0.000628\n",
       "4         -0.010321      -0.002849"
      ]
     },
     "execution_count": 32,
     "metadata": {},
     "output_type": "execute_result"
    }
   ],
   "source": [
    "import pandas\n",
    "results = pandas.DataFrame({'result_equal_vis':result_equal_vis, \n",
    "                  'result_rl_vis': result_rl_vis})\n",
    "results.head()"
   ]
  },
  {
   "cell_type": "markdown",
   "id": "d69e6edd",
   "metadata": {},
   "source": [
    "## 匯出運算結果"
   ]
  },
  {
   "cell_type": "code",
   "execution_count": 33,
   "id": "8289208e",
   "metadata": {},
   "outputs": [],
   "source": [
    "results.to_csv('data/rl_result.csv')"
   ]
  },
  {
   "cell_type": "markdown",
   "id": "871fc8c7",
   "metadata": {},
   "source": [
    "## 評估資產配置效果"
   ]
  },
  {
   "cell_type": "code",
   "execution_count": 34,
   "id": "dba608fb",
   "metadata": {},
   "outputs": [
    {
     "data": {
      "text/html": [
       "<div>\n",
       "<style scoped>\n",
       "    .dataframe tbody tr th:only-of-type {\n",
       "        vertical-align: middle;\n",
       "    }\n",
       "\n",
       "    .dataframe tbody tr th {\n",
       "        vertical-align: top;\n",
       "    }\n",
       "\n",
       "    .dataframe thead th {\n",
       "        text-align: right;\n",
       "    }\n",
       "</style>\n",
       "<table border=\"1\" class=\"dataframe\">\n",
       "  <thead>\n",
       "    <tr style=\"text-align: right;\">\n",
       "      <th></th>\n",
       "      <th>result_equal_vis</th>\n",
       "      <th>result_rl_vis</th>\n",
       "    </tr>\n",
       "  </thead>\n",
       "  <tbody>\n",
       "    <tr>\n",
       "      <th>0</th>\n",
       "      <td>-0.012084</td>\n",
       "      <td>-0.005933</td>\n",
       "    </tr>\n",
       "    <tr>\n",
       "      <th>1</th>\n",
       "      <td>0.007076</td>\n",
       "      <td>-0.000036</td>\n",
       "    </tr>\n",
       "    <tr>\n",
       "      <th>2</th>\n",
       "      <td>0.007679</td>\n",
       "      <td>0.003557</td>\n",
       "    </tr>\n",
       "    <tr>\n",
       "      <th>3</th>\n",
       "      <td>0.005810</td>\n",
       "      <td>0.000628</td>\n",
       "    </tr>\n",
       "    <tr>\n",
       "      <th>4</th>\n",
       "      <td>-0.010321</td>\n",
       "      <td>-0.002849</td>\n",
       "    </tr>\n",
       "  </tbody>\n",
       "</table>\n",
       "</div>"
      ],
      "text/plain": [
       "   result_equal_vis  result_rl_vis\n",
       "0         -0.012084      -0.005933\n",
       "1          0.007076      -0.000036\n",
       "2          0.007679       0.003557\n",
       "3          0.005810       0.000628\n",
       "4         -0.010321      -0.002849"
      ]
     },
     "execution_count": 34,
     "metadata": {},
     "output_type": "execute_result"
    }
   ],
   "source": [
    "import pandas\n",
    "df = pandas.read_csv('data/rl_result.csv', index_col = 0)\n",
    "df.head()"
   ]
  },
  {
   "cell_type": "code",
   "execution_count": 35,
   "id": "4a286e8b",
   "metadata": {},
   "outputs": [
    {
     "data": {
      "text/plain": [
       "<AxesSubplot:>"
      ]
     },
     "execution_count": 35,
     "metadata": {},
     "output_type": "execute_result"
    },
    {
     "data": {
      "image/png": "[encoded data removed]",
      "text/plain": [
       "<Figure size 1440x720 with 1 Axes>"
      ]
     },
     "metadata": {
      "needs_background": "light"
     },
     "output_type": "display_data"
    }
   ],
   "source": [
    "(df.cumsum() + 1).plot(kind = 'line', figsize = [20,10])"
   ]
  }
 ],
 "metadata": {
  "kernelspec": {
   "display_name": "Python 3 (ipykernel)",
   "language": "python",
   "name": "python3"
  },
  "language_info": {
   "codemirror_mode": {
    "name": "ipython",
    "version": 3
   },
   "file_extension": ".py",
   "mimetype": "text/x-python",
   "name": "python",
   "nbconvert_exporter": "python",
   "pygments_lexer": "ipython3",
   "version": "3.8.10"
  }
 },
 "nbformat": 4,
 "nbformat_minor": 5
}
